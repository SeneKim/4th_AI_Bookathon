{
 "cells": [
  {
   "cell_type": "code",
   "execution_count": 38,
   "metadata": {
    "scrolled": true
   },
   "outputs": [
    {
     "name": "stderr",
     "output_type": "stream",
     "text": [
      "<ipython-input-38-81b6c32225dd>:8: DeprecationWarning: executable_path has been deprecated, please pass in a Service object\n",
      "  driver = webdriver.Chrome('C:\\\\Users\\\\user\\\\Desktop\\\\TAVE\\\\chromedriver.exe')\n"
     ]
    },
    {
     "data": {
      "text/plain": [
       "'for page_num in range(2):\\n    page_num = 1\\n    URL = \\'http://www.supil.or.kr/essay/talkbox/viewbody.html?partid=11&code=talkbox2&page=4&number=2921&keyfield=&key=\\'\\n    driver.get(URL)\\n\\n    for num in range(15):\\n        texts = []\\n        num = 2\\n        \\n        x_path = f\"/html/body/center/form/table[4]/tbody/tr[{num}]/td[2]/a\"\\n        link = driver.find_element(By.XPATH, x_path)\\n        link.click()\\n\\n\\n        # 들어간 창에서 본문 내용 가져오기\\n        content_link = \\'/html/body/center/center/div/p/table[2]/tbody/tr[1]/td/table/tbody/tr[5]\\'\\n        texts = driver.find_elements(By.XPATH,content_link).text\\n\\n        # 뒤로가기\\n        driver.back()\\n        time.sleep(0.5)\\n\\n    # 한 페이지를 다 돌면 페이지별로 txt 파일 저장\\n    last_contents = \"\\n\\n\".join(map(str, texts))\\n    file_path = os.path.join(save_dir, f\"2호_{num}.txt\")\\n    with open(file_path, \\'w\\') as f:\\n        f.write(last_contents)\\n        \\n        '"
      ]
     },
     "execution_count": 38,
     "metadata": {},
     "output_type": "execute_result"
    }
   ],
   "source": [
    "import time, os\n",
    "from selenium import webdriver\n",
    "from bs4 import BeautifulSoup as bs\n",
    "import pandas as pd\n",
    "from selenium.webdriver.common.by import By\n",
    "\n",
    "save_dir = 'C:\\\\Users\\\\user\\\\Desktop\\\\TAVE\\북커톤\\\\data\\\\38호'\n",
    "driver = webdriver.Chrome('C:\\\\Users\\\\user\\\\Desktop\\\\TAVE\\\\chromedriver.exe')\n",
    "\n",
    "options = webdriver.ChromeOptions()\n",
    "options.add_argument('headless')\n",
    "options.add_argument('window-size=1920x1080')\n",
    "options.add_argument(\"disable-gpu\")\n",
    "\n",
    "start_num = 62218\n",
    "end_num = 62229\n",
    "while start_num<= end_num:\n",
    "    URL = f'http://www.supil.or.kr/essay/talkbox/viewbody.html?partid=70&code=talkbox2&page=1&number={start_num}&keyfield=&key='\n",
    "    driver.get(URL)\n",
    "    \n",
    "    content_link = '/html/body/center/center/div/p/table[2]/tbody/tr[1]/td/table/tbody/tr[5]'\n",
    "    test_texts = driver.find_element(By.XPATH,content_link).text\n",
    "    texts = test_texts\n",
    "    \n",
    "    if(test_texts != \" \"):\n",
    "        last_contents = \"\".join(map(str, texts))\n",
    "        file_path = os.path.join(save_dir, f\"38호_{start_num}.txt\")\n",
    "        with open(file_path, 'w', encoding = 'utf8') as f:\n",
    "            f.write(last_contents)    \n",
    "\n",
    "        file_size = os.path.getsize(file_path)\n",
    "        start_num += 1\n",
    "        \n",
    "    if(file_size == 0):\n",
    "        os.remove(file_path)\n",
    "    \n",
    "#기술 부족으로 인해 해당 값이 없는 파일을 찾기 힘드므로... 그냥 저장하고 용량이 0인 파일을 제거하자  \n",
    "#상당히 멍청한 방법으로 크롤링을 진행했다.\n",
    "    \n"
   ]
  },
  {
   "cell_type": "code",
   "execution_count": null,
   "metadata": {},
   "outputs": [],
   "source": []
  }
 ],
 "metadata": {
  "kernelspec": {
   "display_name": "Python 3",
   "language": "python",
   "name": "python3"
  },
  "language_info": {
   "codemirror_mode": {
    "name": "ipython",
    "version": 3
   },
   "file_extension": ".py",
   "mimetype": "text/x-python",
   "name": "python",
   "nbconvert_exporter": "python",
   "pygments_lexer": "ipython3",
   "version": "3.8.5"
  }
 },
 "nbformat": 4,
 "nbformat_minor": 4
}
